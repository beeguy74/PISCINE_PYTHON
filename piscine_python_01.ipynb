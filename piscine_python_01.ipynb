{
  "nbformat": 4,
  "nbformat_minor": 0,
  "metadata": {
    "colab": {
      "provenance": [],
      "authorship_tag": "ABX9TyMBYqm8Tew7KIXW2KJmVo5x",
      "include_colab_link": true
    },
    "kernelspec": {
      "name": "python3",
      "display_name": "Python 3"
    },
    "language_info": {
      "name": "python"
    }
  },
  "cells": [
    {
      "cell_type": "markdown",
      "metadata": {
        "id": "view-in-github",
        "colab_type": "text"
      },
      "source": [
        "<a href=\"https://colab.research.google.com/github/beeguy74/PISCINE_PYTHON/blob/main/piscine_python_01.ipynb\" target=\"_parent\"><img src=\"https://colab.research.google.com/assets/colab-badge.svg\" alt=\"Open In Colab\"/></a>"
      ]
    },
    {
      "cell_type": "code",
      "execution_count": null,
      "metadata": {
        "id": "LjY3qtE_F56f"
      },
      "outputs": [],
      "source": []
    },
    {
      "cell_type": "markdown",
      "source": [
        "Exercice 00: Give my BMI"
      ],
      "metadata": {
        "id": "lTeA7GT9dBVB"
      }
    },
    {
      "cell_type": "code",
      "source": [
        "import numpy as np\n",
        "\n",
        "\n",
        "def give_bmi(height: list[int | float], weight: list[int | float]) -> list[int | float]:\n",
        "  '''take 2 lists of integers or floats in input and returns a list\n",
        "      of BMI values. BMI = poids[kg] / taille2[m2]'''\n",
        "  res = []\n",
        "  try:\n",
        "    res = np.divide(weight, np.square(height)).tolist()\n",
        "  except Exception as e:\n",
        "    print(\"Error give_bmi:\",e)\n",
        "  return res\n",
        "\n",
        "def apply_limit(bmi: list[int | float], limit: int) -> list[bool]:\n",
        "  '''accepts a list of integers or floats and an integer representing\n",
        "    a limit as parameters. It returns a list of booleans\n",
        "    (True if above the limit)'''\n",
        "  res = []\n",
        "  try:\n",
        "    res = np.vectorize(lambda num: num > limit)(bmi).tolist()\n",
        "  except Exception as e:\n",
        "    print(\"Error apply_limit:\", e)\n",
        "  return res\n",
        "\n",
        "def main():\n",
        "# your tests and your error handling\n",
        "  height = [2.71, 1.15]\n",
        "  weight = [165.3, 38.4]\n",
        "  bmi = give_bmi(height, weight)\n",
        "  print(bmi, type(bmi))\n",
        "  print(apply_limit(bmi, 26))\n",
        "\n",
        "if __name__ == \"__main__\":\n",
        "  main()"
      ],
      "metadata": {
        "colab": {
          "base_uri": "https://localhost:8080/"
        },
        "id": "GPAG42U4dD7o",
        "outputId": "b0e956f6-eb34-46d7-fd47-ef5df97b247d"
      },
      "execution_count": null,
      "outputs": [
        {
          "output_type": "stream",
          "name": "stdout",
          "text": [
            "[22.507863455018317, 29.0359168241966] <class 'list'>\n",
            "[False, True]\n"
          ]
        }
      ]
    },
    {
      "cell_type": "code",
      "source": [
        "#from give_bmi import give_bmi, apply_limit\n",
        "\n",
        "\n",
        "height = [2.71, 1.15]\n",
        "weight = [165.3, 38.4]\n",
        "bmi = give_bmi(height, weight)\n",
        "print(bmi, type(bmi))\n",
        "print(apply_limit(bmi, 26))"
      ],
      "metadata": {
        "colab": {
          "base_uri": "https://localhost:8080/"
        },
        "id": "wC1kcMNUdBsM",
        "outputId": "eaf2de3d-c44d-4126-bc81-4a118a0a3845"
      },
      "execution_count": null,
      "outputs": [
        {
          "output_type": "stream",
          "name": "stdout",
          "text": [
            "[22.507863455018317, 29.0359168241966] <class 'list'>\n",
            "[False, True]\n"
          ]
        }
      ]
    },
    {
      "cell_type": "markdown",
      "source": [
        "Exercice 01: 2D array"
      ],
      "metadata": {
        "id": "VdZ0ID3PoxJb"
      }
    },
    {
      "cell_type": "code",
      "source": [
        "import numpy as np\n",
        "\n",
        "\n",
        "def slice_me(family: list, start: int, end: int) -> list:\n",
        "  ''' takes as parameters a 2D array, prints its shape, and returns a\n",
        "truncated version of the array based on the provided start and end arguments.'''\n",
        "  try:\n",
        "    res = family[start:end]\n",
        "    print(\"My shape is :\", np.shape(family))\n",
        "    print(\"My new shape is :\", np.shape(res))\n",
        "    return res\n",
        "  except Exception as e:\n",
        "    print(\"Error slice_me:\",e)\n",
        "\n",
        "def main():\n",
        "  # your tests and your error handling\n",
        "  family = [[1.80, 78.4],\n",
        "            [2.15, 102.7],\n",
        "            [2.10, 98.5],\n",
        "            [1.88, 75.2]]\n",
        "  print(slice_me(family, 0, 2))\n",
        "  print(slice_me(family, 1, -2))\n",
        "\n",
        "if __name__ == \"__main__\":\n",
        "  main()"
      ],
      "metadata": {
        "colab": {
          "base_uri": "https://localhost:8080/"
        },
        "id": "pchUX-Afox5D",
        "outputId": "95410d8d-11fd-4916-a6d3-d14128938a8b"
      },
      "execution_count": null,
      "outputs": [
        {
          "output_type": "stream",
          "name": "stdout",
          "text": [
            "My shape is : (4, 2)\n",
            "My new shape is : (2, 2)\n",
            "[[1.8, 78.4], [2.15, 102.7]]\n",
            "My shape is : (4, 2)\n",
            "My new shape is : (1, 2)\n",
            "[[2.15, 102.7]]\n"
          ]
        }
      ]
    },
    {
      "cell_type": "code",
      "source": [
        "#from array2D import slice_me\n",
        "\n",
        "family = [[1.80, 78.4],\n",
        "[2.15, 102.7],\n",
        "[2.10, 98.5],\n",
        "[1.88, 75.2]]\n",
        "print(slice_me(family, 0, 2))\n",
        "print(slice_me(family, 1, -2))"
      ],
      "metadata": {
        "colab": {
          "base_uri": "https://localhost:8080/"
        },
        "id": "Y2qGXv_Np5wp",
        "outputId": "05efd3a3-268e-490a-9bf4-290624e30372"
      },
      "execution_count": null,
      "outputs": [
        {
          "output_type": "stream",
          "name": "stdout",
          "text": [
            "My shape is : (4, 2)\n",
            "My new shape is : (2, 2)\n",
            "[[1.8, 78.4], [2.15, 102.7]]\n",
            "My shape is : (4, 2)\n",
            "My new shape is : (1, 2)\n",
            "[[2.15, 102.7]]\n"
          ]
        }
      ]
    },
    {
      "cell_type": "markdown",
      "source": [
        "Exercice 02: load my image"
      ],
      "metadata": {
        "id": "S17kYXslNaf_"
      }
    },
    {
      "cell_type": "code",
      "source": [
        "import numpy as np\n",
        "from PIL import Image\n",
        "\n",
        "\n",
        "def ft_load(path: str) -> np.ndarray:\n",
        "  ''' loads an image, prints its format, and its pixels\n",
        "  content in RGB format.'''\n",
        "  try:\n",
        "    with Image.open(path) as f:\n",
        "      data = np.array(f)\n",
        "      print(\"The shape of image is: \", np.shape(data))\n",
        "      return data\n",
        "  except Exception as e:\n",
        "    print(\"Error ft_load:\",e)\n",
        "\n",
        "def main():\n",
        "  # your tests and your error handling\n",
        "  print(ft_load(\"sample_data/landscape.jpeg\"))\n",
        "  print(ft_load(\"sample_data/README.md\"))\n",
        "\n",
        "if __name__ == \"__main__\":\n",
        "  main()"
      ],
      "metadata": {
        "colab": {
          "base_uri": "https://localhost:8080/"
        },
        "id": "Pt5_1BRhNbGq",
        "outputId": "25fc514a-ce66-47f4-9284-b5706ae2243e"
      },
      "execution_count": 24,
      "outputs": [
        {
          "output_type": "stream",
          "name": "stdout",
          "text": [
            "The shape of image is:  (257, 450, 3)\n",
            "[[[19 42 83]\n",
            "  [23 42 84]\n",
            "  [28 43 84]\n",
            "  ...\n",
            "  [69 42 51]\n",
            "  [68 41 46]\n",
            "  [68 41 46]]\n",
            "\n",
            " [[20 43 84]\n",
            "  [24 43 85]\n",
            "  [28 43 84]\n",
            "  ...\n",
            "  [71 44 53]\n",
            "  [71 42 47]\n",
            "  [71 42 47]]\n",
            "\n",
            " [[22 44 85]\n",
            "  [25 44 84]\n",
            "  [30 45 86]\n",
            "  ...\n",
            "  [74 44 54]\n",
            "  [72 43 48]\n",
            "  [72 43 48]]\n",
            "\n",
            " ...\n",
            "\n",
            " [[ 1  0  5]\n",
            "  [ 1  0  5]\n",
            "  [ 1  0  5]\n",
            "  ...\n",
            "  [ 0  0  0]\n",
            "  [ 0  0  0]\n",
            "  [ 0  0  0]]\n",
            "\n",
            " [[ 1  0  5]\n",
            "  [ 1  0  5]\n",
            "  [ 1  0  5]\n",
            "  ...\n",
            "  [ 0  0  0]\n",
            "  [ 0  0  0]\n",
            "  [ 0  0  0]]\n",
            "\n",
            " [[ 0  0  4]\n",
            "  [ 0  0  4]\n",
            "  [ 0  0  4]\n",
            "  ...\n",
            "  [ 0  0  0]\n",
            "  [ 1  1  1]\n",
            "  [ 1  1  1]]]\n",
            "Error ft_load: cannot identify image file 'sample_data/README.md'\n",
            "None\n"
          ]
        }
      ]
    }
  ]
}