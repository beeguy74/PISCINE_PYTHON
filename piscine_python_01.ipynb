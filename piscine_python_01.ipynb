{
  "nbformat": 4,
  "nbformat_minor": 0,
  "metadata": {
    "colab": {
      "provenance": [],
      "authorship_tag": "ABX9TyPvtBMGCvRjtambgwtAryOk",
      "include_colab_link": true
    },
    "kernelspec": {
      "name": "python3",
      "display_name": "Python 3"
    },
    "language_info": {
      "name": "python"
    }
  },
  "cells": [
    {
      "cell_type": "markdown",
      "metadata": {
        "id": "view-in-github",
        "colab_type": "text"
      },
      "source": [
        "<a href=\"https://colab.research.google.com/github/beeguy74/PISCINE_PYTHON/blob/main/piscine_python_01.ipynb\" target=\"_parent\"><img src=\"https://colab.research.google.com/assets/colab-badge.svg\" alt=\"Open In Colab\"/></a>"
      ]
    },
    {
      "cell_type": "code",
      "execution_count": null,
      "metadata": {
        "id": "LjY3qtE_F56f"
      },
      "outputs": [],
      "source": []
    },
    {
      "cell_type": "markdown",
      "source": [
        "Exercice 00: Give my BMI"
      ],
      "metadata": {
        "id": "lTeA7GT9dBVB"
      }
    },
    {
      "cell_type": "code",
      "source": [
        "import numpy as np\n",
        "\n",
        "\n",
        "def give_bmi(height: list[int | float], weight: list[int | float]) -> list[int | float]:\n",
        "  '''take 2 lists of integers or floats in input and returns a list\n",
        "      of BMI values. BMI = poids[kg] / taille2[m2]'''\n",
        "  res = []\n",
        "  try:\n",
        "    res = np.divide(weight, np.square(height)).tolist()\n",
        "  except Exception as e:\n",
        "    print(\"Error give_bmi:\",e)\n",
        "  return res\n",
        "\n",
        "def apply_limit(bmi: list[int | float], limit: int) -> list[bool]:\n",
        "  '''accepts a list of integers or floats and an integer representing\n",
        "    a limit as parameters. It returns a list of booleans\n",
        "    (True if above the limit)'''\n",
        "  res = []\n",
        "  try:\n",
        "    res = np.vectorize(lambda num: num > limit)(bmi).tolist()\n",
        "  except Exception as e:\n",
        "    print(\"Error apply_limit:\", e)\n",
        "  return res\n",
        "\n",
        "def main():\n",
        "# your tests and your error handling\n",
        "  height = [2.71, 1.15]\n",
        "  weight = [165.3, 38.4]\n",
        "  bmi = give_bmi(height, weight)\n",
        "  print(bmi, type(bmi))\n",
        "  print(apply_limit(bmi, 26))\n",
        "\n",
        "if __name__ == \"__main__\":\n",
        "  main()"
      ],
      "metadata": {
        "colab": {
          "base_uri": "https://localhost:8080/"
        },
        "id": "GPAG42U4dD7o",
        "outputId": "b0e956f6-eb34-46d7-fd47-ef5df97b247d"
      },
      "execution_count": 22,
      "outputs": [
        {
          "output_type": "stream",
          "name": "stdout",
          "text": [
            "[22.507863455018317, 29.0359168241966] <class 'list'>\n",
            "[False, True]\n"
          ]
        }
      ]
    },
    {
      "cell_type": "code",
      "source": [
        "#from give_bmi import give_bmi, apply_limit\n",
        "\n",
        "\n",
        "height = [2.71, 1.15]\n",
        "weight = [165.3, 38.4]\n",
        "bmi = give_bmi(height, weight)\n",
        "print(bmi, type(bmi))\n",
        "print(apply_limit(bmi, 26))"
      ],
      "metadata": {
        "colab": {
          "base_uri": "https://localhost:8080/"
        },
        "id": "wC1kcMNUdBsM",
        "outputId": "eaf2de3d-c44d-4126-bc81-4a118a0a3845"
      },
      "execution_count": 23,
      "outputs": [
        {
          "output_type": "stream",
          "name": "stdout",
          "text": [
            "[22.507863455018317, 29.0359168241966] <class 'list'>\n",
            "[False, True]\n"
          ]
        }
      ]
    }
  ]
}