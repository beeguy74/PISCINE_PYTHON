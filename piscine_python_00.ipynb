{
  "cells": [
    {
      "cell_type": "markdown",
      "metadata": {
        "id": "view-in-github",
        "colab_type": "text"
      },
      "source": [
        "<a href=\"https://colab.research.google.com/github/beeguy74/PISCINE_PYTHON/blob/main/piscine_python_00.ipynb\" target=\"_parent\"><img src=\"https://colab.research.google.com/assets/colab-badge.svg\" alt=\"Open In Colab\"/></a>"
      ]
    },
    {
      "cell_type": "markdown",
      "metadata": {
        "id": "B-igJcBDSSrF"
      },
      "source": [
        "ex00\n",
        "\n"
      ]
    },
    {
      "cell_type": "markdown",
      "source": [
        "# Nouvelle section"
      ],
      "metadata": {
        "id": "ubpk6ulDBsrc"
      }
    },
    {
      "cell_type": "code",
      "execution_count": null,
      "metadata": {
        "colab": {
          "base_uri": "https://localhost:8080/"
        },
        "id": "bcennV9eS7L6",
        "outputId": "3c3ed8bd-6c33-46d4-8564-28b60a60ee10"
      },
      "outputs": [
        {
          "output_type": "stream",
          "name": "stdout",
          "text": [
            "['Hello', 'World!']\n",
            "('Hello', 'France!')\n",
            "{'Hello', 'Раris'}\n",
            "{'Hello': '42Paris!'}\n"
          ]
        }
      ],
      "source": [
        "ft_list = [\"Hello\", \"tata!\"]\n",
        "ft_tuple = (\"Hello\", \"toto!\")\n",
        "ft_set = {\"Hello\", \"tutu!\"}\n",
        "ft_dict = {\"Hello\" : \"titi!\"}\n",
        "\n",
        "ft_list[1] = \"World!\"\n",
        "ft_tuple = (\"Hello\", \"France!\")\n",
        "ft_set.remove(\"tutu!\")\n",
        "ft_set.add(\"Раris\") #CYRYLLIC\n",
        "ft_dict[\"Hello\"] = \"42Paris!\"\n",
        "\n",
        "\n",
        "\n",
        "print(ft_list)\n",
        "print(ft_tuple)\n",
        "print(ft_set)\n",
        "print(ft_dict)"
      ]
    },
    {
      "cell_type": "code",
      "source": [],
      "metadata": {
        "id": "j2RIiCS6EZeD"
      },
      "execution_count": null,
      "outputs": []
    },
    {
      "cell_type": "markdown",
      "source": [
        "EX01 format_ft_time.py"
      ],
      "metadata": {
        "id": "VdNOhwJmH2sx"
      }
    },
    {
      "cell_type": "code",
      "source": [
        "#Seconds since January 1, 1970: 1,666,355,857.3622 or 1.67e+09 in scientific notation$\n",
        "#Oct 21 2022$\n",
        "\n",
        "from datetime import datetime as dt\n",
        "\n",
        "time = dt.now()\n",
        "secs = time.timestamp()\n",
        "print(\n",
        "    f\"Seconds since January 1, 1970: {secs:,.4f} or {secs:.2e} in scientific notation\\n\"\n",
        "    + time.strftime(\"%b %-d %Y\")\n",
        "    )"
      ],
      "metadata": {
        "colab": {
          "base_uri": "https://localhost:8080/"
        },
        "id": "wmJhGNjRH8nN",
        "outputId": "79c52939-a638-47ec-aefb-b171d27c5f9b"
      },
      "execution_count": null,
      "outputs": [
        {
          "output_type": "stream",
          "name": "stdout",
          "text": [
            "Seconds since January 1, 1970: 1,702,202,369.7357 or 1.70e+09 in scientific notation\n",
            "Dec 10 2023\n"
          ]
        }
      ]
    },
    {
      "cell_type": "markdown",
      "source": [
        "ex02 find_ft_type.py"
      ],
      "metadata": {
        "id": "1d-aW9CXL70Z"
      }
    },
    {
      "cell_type": "code",
      "source": [
        "def all_thing_is_obj(object):\n",
        "  if isinstance(object, (int, float, bool)):\n",
        "    print(\"Type not found\")\n",
        "  else:\n",
        "    res = \"\"\n",
        "    if isinstance(object, (str)):\n",
        "      res += \"Brian is in the kitchen\"\n",
        "    else:\n",
        "      res += object.__class__.__name__.capitalize()\n",
        "    res += \" : \" + str(type(object))\n",
        "    print(res)\n",
        "  return 42\n",
        "\n",
        "all_thing_is_obj(ft_list)\n",
        "all_thing_is_obj(ft_tuple)\n",
        "all_thing_is_obj(ft_set)\n",
        "all_thing_is_obj(ft_dict)\n",
        "all_thing_is_obj(\"Brian\")\n",
        "print(all_thing_is_obj(10))"
      ],
      "metadata": {
        "colab": {
          "base_uri": "https://localhost:8080/"
        },
        "id": "bA33WnQTMAkU",
        "outputId": "41f129a5-de41-45c0-dcf4-6a6da70e2433"
      },
      "execution_count": null,
      "outputs": [
        {
          "output_type": "stream",
          "name": "stdout",
          "text": [
            "List : <class 'list'>\n",
            "Tuple : <class 'tuple'>\n",
            "Set : <class 'set'>\n",
            "Dict : <class 'dict'>\n",
            "Brian is in the kitchen : <class 'str'>\n",
            "Type not found\n",
            "42\n"
          ]
        }
      ]
    },
    {
      "cell_type": "code",
      "source": [
        "#ex03 NULL_not_found.py"
      ],
      "metadata": {
        "id": "eEiLF5qzfKvM"
      },
      "execution_count": null,
      "outputs": []
    },
    {
      "cell_type": "code",
      "source": [
        "def NULL_not_found(obj) -> int:\n",
        "  dictNones = {\n",
        "    \"<class 'NoneType'>\" : \"Nothing\",\n",
        "    \"<class 'float'>\": \"Cheese\",\n",
        "    \"<class 'int'>\": \"Zero\",\n",
        "    \"<class 'str'>\": \"Empty\",\n",
        "    \"<class 'bool'>\": \"Fake\",\n",
        "  }\n",
        "\n",
        "  if not obj or not obj == obj:\n",
        "    myType = str(type(obj))\n",
        "    res = dictNones[myType]\n",
        "    res += f\": {obj}\"\n",
        "    res += \"\" if obj == \"\" else \" \"\n",
        "    res += myType\n",
        "    print(res)\n",
        "  else:\n",
        "    print(\"Type not found\")\n",
        "    return 1\n",
        "  return 0\n",
        "\n",
        "Nothing = None\n",
        "Garlic = float(\"NaN\")\n",
        "Zero = 0\n",
        "Empty = \"\"\n",
        "Fake = False\n",
        "NULL_not_found(Nothing)\n",
        "NULL_not_found(Garlic)\n",
        "NULL_not_found(Zero)\n",
        "NULL_not_found(Empty)\n",
        "NULL_not_found(Fake)\n",
        "print(NULL_not_found(\"Brian\"))\n",
        "print(NULL_not_found(15))\n",
        "print(NULL_not_found(True))\n",
        "\n",
        "#Nothing: None <class 'NoneType'>$\n",
        "#Cheese: nan <class 'float'>$\n",
        "#Zero: 0 <class 'int'>$\n",
        "#Empty: <class 'str'>$\n",
        "#Fake: False <class 'bool'>$"
      ],
      "metadata": {
        "colab": {
          "base_uri": "https://localhost:8080/"
        },
        "id": "yc5cqOd1fNO9",
        "outputId": "8944b442-598e-461c-f55e-0c11d152195e"
      },
      "execution_count": null,
      "outputs": [
        {
          "output_type": "stream",
          "name": "stdout",
          "text": [
            "Nothing: None <class 'NoneType'>\n",
            "Cheese: nan <class 'float'>\n",
            "Zero: 0 <class 'int'>\n",
            "Empty: <class 'str'>\n",
            "Fake: False <class 'bool'>\n",
            "Type not found\n",
            "1\n",
            "Type not found\n",
            "1\n",
            "Type not found\n",
            "1\n"
          ]
        }
      ]
    },
    {
      "cell_type": "code",
      "source": [
        "#ex04 whatis.py"
      ],
      "metadata": {
        "id": "yWG6wBHerEJ7"
      },
      "execution_count": null,
      "outputs": []
    },
    {
      "cell_type": "code",
      "source": [
        "import sys as sys\n",
        "\n",
        "def main(obj)-> int:\n",
        "  try:\n",
        "    number = int(obj)\n",
        "    res = \"I'm \"\n",
        "    res += \"Odd.\" if number % 2 else \"Even.\"\n",
        "    print(res)\n",
        "  except:\n",
        "    print(\"AssertionError: argument is not an integer\")\n",
        "    return 1\n",
        "\n",
        "  return 0\n",
        "\n",
        "if __name__ == \"__main__\":\n",
        "  args = sys.argv\n",
        "  if len(args) != 2:\n",
        "    print(\"AssertionError: more than one argument is provided\")\n",
        "  else:\n",
        "    main(args[1])\n",
        "  main(\"21\")\n",
        "  main(\"0s\")\n",
        "\n",
        "\n"
      ],
      "metadata": {
        "colab": {
          "base_uri": "https://localhost:8080/"
        },
        "id": "erZckutStcdX",
        "outputId": "80a2d440-29eb-41b1-889a-dc222e59e68e"
      },
      "execution_count": null,
      "outputs": [
        {
          "output_type": "stream",
          "name": "stdout",
          "text": [
            "AssertionError: more than one argument is provided\n",
            "I'm Odd.\n",
            "AssertionError: argument is not an integer\n"
          ]
        }
      ]
    },
    {
      "cell_type": "code",
      "source": [
        "#ex05 building.py"
      ],
      "metadata": {
        "id": "rV4o_1z90FNU"
      },
      "execution_count": null,
      "outputs": []
    },
    {
      "cell_type": "code",
      "source": [
        "import sys as sys\n",
        "#2 upper letters\n",
        "#121 lower letters\n",
        "#8 punctuation marks\n",
        "#25 spaces\n",
        "#15 digits\n",
        "\n",
        "\n",
        "def is_punctuation(char):\n",
        "  \"\"\"return True if char is punctuation symbol\"\"\"\n",
        "  return char in r\"\"\"!\"#$%&'()*+,-./:;<=>?@[\\]^_`{|}~\"\"\"\n",
        "\n",
        "\n",
        "def test():\n",
        "  \"\"\"this function can read stdin and potentialy detect ctrl+d\"\"\"\n",
        "  for line in sys.stdin:\n",
        "    if 'Exit' == line.rstrip():\n",
        "        break\n",
        "    print(f'Processing Message from sys.stdin *****{line}*****')\n",
        "  print(\"Done\")\n",
        "\n",
        "def count(args)-> int:\n",
        "  \"\"\"\n",
        "  takes a single string argument and displays the sums of its upper-case\n",
        "  characters, lower-case characters, punctuation characters, digits and spaces.\n",
        "  \"\"\"\n",
        "  funcMap = {\n",
        "      \"upper letters\" : str.isupper,\n",
        "      \"lower letters\" : str.islower,\n",
        "      \"punctuation marks\" : is_punctuation,\n",
        "      \"spaces\" : str.isspace,\n",
        "      \"digits\" : str.isdigit\n",
        "  }\n",
        "  #text = input(\"What is the text to count? \\n\") if len(args) != 2 else args[1]\n",
        "  print(\"What is the text to count? \\n\")\n",
        "  text = stdin.readline()\n",
        "  print(f\"The text contains {len(text)} characters:\")\n",
        "  for name, func in funcMap.items():\n",
        "    res = 0\n",
        "    for char in text:\n",
        "      res += 1 if func(char) else 0\n",
        "    print(res, name)\n",
        "  return res\n",
        "\n",
        "def main()-> int:\n",
        "  if len(sys.argv) <= 3: #error workaround\n",
        "    count(sys.argv)\n",
        "  else:\n",
        "    print(\"AssertionError: more than one argument is provided\")\n",
        "    return 1\n",
        "  return 0\n",
        "\n",
        "if __name__ == \"__main__\":\n",
        "  main()\n",
        "\n",
        "\n"
      ],
      "metadata": {
        "colab": {
          "base_uri": "https://localhost:8080/"
        },
        "id": "XNfDQiKS0LJt",
        "outputId": "233cd4f9-f032-4683-8387-96ad342753ca"
      },
      "execution_count": 97,
      "outputs": [
        {
          "output_type": "stream",
          "name": "stdout",
          "text": [
            "Done\n"
          ]
        }
      ]
    },
    {
      "cell_type": "markdown",
      "metadata": {
        "id": "gG0iVvuWSpzu"
      },
      "source": []
    },
    {
      "cell_type": "markdown",
      "source": [
        "ex06 ft_filter.py, filterstring.py"
      ],
      "metadata": {
        "id": "FHf7hBv0JAmL"
      }
    },
    {
      "cell_type": "code",
      "source": [
        "from types import FunctionType\n",
        "#ft_filter.py\n",
        "\n",
        "def ft_filter(test: FunctionType, items: list):\n",
        "  \"\"\"\n",
        "    generator, returns an iterator where the items are filtered\n",
        "    through a function to test if the item is accepted or not.\n",
        "  \"\"\"\n",
        "  yield [x for x in items if test(x)]"
      ],
      "metadata": {
        "id": "T29yQc3qJCaA"
      },
      "execution_count": 123,
      "outputs": []
    },
    {
      "cell_type": "code",
      "source": [
        "#filterstring.py\n",
        "import sys as sys\n",
        "\n",
        "\n",
        "def filterstring(args)-> int:\n",
        "  \"\"\"\n",
        "     output a list of words from args[1] that have a length greater than number in args[2].\n",
        "  \"\"\"\n",
        "  number = 0\n",
        "  try:\n",
        "    number = int(args[2])\n",
        "  except:\n",
        "    print(\"AssertionError:  the arguments are bad\")\n",
        "    return 1\n",
        "  words = args[1].split()\n",
        "  res = ft_filter(\n",
        "        lambda x : len(x) > number,\n",
        "        words\n",
        "      )\n",
        "  print(*[resWord for resWord in res])\n",
        "  return 0\n",
        "\n",
        "def main()-> int:\n",
        "  if len(sys.argv) == 3: #error workaround\n",
        "    filterstring(sys.argv)\n",
        "    filterstring([1, \"Hello the World\", '77']) #error workaround\n",
        "  else:\n",
        "    print(\"AssertionError:  the arguments are bad\")\n",
        "    return 1\n",
        "  return 0\n",
        "\n",
        "if __name__ == \"__main__\":\n",
        "  main()"
      ],
      "metadata": {
        "colab": {
          "base_uri": "https://localhost:8080/"
        },
        "id": "m4sPKO6fJuM7",
        "outputId": "dee2fbbf-77bc-484d-bcdb-725951c33b94"
      },
      "execution_count": 139,
      "outputs": [
        {
          "output_type": "stream",
          "name": "stdout",
          "text": [
            "AssertionError:  the arguments are bad\n",
            "[]\n"
          ]
        }
      ]
    },
    {
      "cell_type": "markdown",
      "source": [
        "ex07 sos.py"
      ],
      "metadata": {
        "id": "I4YHlOlXiQV6"
      }
    },
    {
      "cell_type": "code",
      "source": [
        "import sys as sys\n",
        "\n",
        "\n",
        "def morse(text)-> int:\n",
        "  \"\"\"takes a string as an argument and prints it into Morse Code\"\"\"\n",
        "  NESTED_MORSE = {'A': '.- ',     'B': '-... ',   'C': '-.-. ',\n",
        "        'D': '-.. ',    'E': '. ',      'F': '..-. ',\n",
        "        'G': '--. ',    'H': '.... ',   'I': '.. ',\n",
        "        'J': '.--- ',   'K': '-.- ',    'L': '.-.. ',\n",
        "        'M': '-- ',     'N': '-. ',     'O': '--- ',\n",
        "        'P': '.--. ',   'Q': '--.- ',   'R': '.-. ',\n",
        "        'S': '... ',    'T': '- ',      'U': '..- ',\n",
        "        'V': '...- ',   'W': '.-- ',    'X': '-..- ',\n",
        "        'Y': '-.-- ',   'Z': '--.. ',\n",
        "        '0': '----- ',  '1': '.---- ',  '2': '..--- ',\n",
        "        '3': '...-- ',  '4': '....- ',  '5': '..... ',\n",
        "        '6': '-.... ',  '7': '--... ',  '8': '---.. ',\n",
        "        '9': '----. '\n",
        "        }\n",
        "  res = \"\"\n",
        "  for word in text.split():\n",
        "    if not word.isalnum():\n",
        "      print(\"AssertionError:  the arguments are bad\")\n",
        "      return 1\n",
        "    morseWord = \"\".join([NESTED_MORSE[char.capitalize()] for char in word])[:-1]\n",
        "    morseWord += \"/ \"\n",
        "    res += morseWord\n",
        "  print(res[:-2])\n",
        "  return 0\n",
        "\n",
        "def main()-> int:\n",
        "  \"\"\" takes a string in an args[1] and encodes it into Morse Code\"\"\"\n",
        "  morse(\"hello zorld\") #error workaround\n",
        "  if len(sys.argv) == 2: #error workaround\n",
        "    morse(sys.argv)\n",
        "  else:\n",
        "    print(\"AssertionError:  the arguments are bad\")\n",
        "    return 1\n",
        "\n",
        "  return 0\n",
        "\n",
        "\n",
        "if __name__ == \"__main__\":\n",
        "  main()\n"
      ],
      "metadata": {
        "colab": {
          "base_uri": "https://localhost:8080/"
        },
        "id": "qWlOk8z_z2o6",
        "outputId": "fea9b5ed-7dd5-4e5b-8b44-32539bbf05a0"
      },
      "execution_count": 164,
      "outputs": [
        {
          "output_type": "stream",
          "name": "stdout",
          "text": [
            ".... . .-.. .-.. ---/ --.. --- .-. .-.. -..\n",
            "AssertionError:  the arguments are bad\n"
          ]
        }
      ]
    }
  ],
  "metadata": {
    "colab": {
      "provenance": [],
      "toc_visible": true,
      "authorship_tag": "ABX9TyO1ihB+brBNLCn+sTjUVScd",
      "include_colab_link": true
    },
    "kernelspec": {
      "display_name": "Python 3",
      "name": "python3"
    },
    "language_info": {
      "name": "python"
    }
  },
  "nbformat": 4,
  "nbformat_minor": 0
}